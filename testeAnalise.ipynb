{
 "cells": [
  {
   "cell_type": "code",
   "execution_count": 2,
   "metadata": {
    "collapsed": true
   },
   "outputs": [],
   "source": [
    "import pandas as pd\n",
    "import seaborn as sns\n",
    "%matplotlib inline"
   ]
  },
  {
   "cell_type": "code",
   "execution_count": 3,
   "metadata": {
    "collapsed": true
   },
   "outputs": [],
   "source": [
    "df = pd.read_excel(\"180430-Teste_especifico_Analise_Dados.DTE (1).xlsx\",sheetname=1)"
   ]
  },
  {
   "cell_type": "code",
   "execution_count": 4,
   "metadata": {},
   "outputs": [
    {
     "data": {
      "text/html": [
       "<div>\n",
       "<style>\n",
       "    .dataframe thead tr:only-child th {\n",
       "        text-align: right;\n",
       "    }\n",
       "\n",
       "    .dataframe thead th {\n",
       "        text-align: left;\n",
       "    }\n",
       "\n",
       "    .dataframe tbody tr th {\n",
       "        vertical-align: top;\n",
       "    }\n",
       "</style>\n",
       "<table border=\"1\" class=\"dataframe\">\n",
       "  <thead>\n",
       "    <tr style=\"text-align: right;\">\n",
       "      <th></th>\n",
       "      <th>ad_id</th>\n",
       "      <th>reviewing_month</th>\n",
       "      <th>reviewer</th>\n",
       "      <th>reviewer_admin_id</th>\n",
       "      <th>reviewer_type</th>\n",
       "      <th>reviewer_type_id</th>\n",
       "      <th>state</th>\n",
       "      <th>monitor</th>\n",
       "      <th>category_main</th>\n",
       "      <th>category_main_id</th>\n",
       "      <th>queue</th>\n",
       "      <th>queue_id</th>\n",
       "      <th>post_reviewing</th>\n",
       "    </tr>\n",
       "  </thead>\n",
       "  <tbody>\n",
       "    <tr>\n",
       "      <th>0</th>\n",
       "      <td>500000</td>\n",
       "      <td>10</td>\n",
       "      <td>reviewer 25</td>\n",
       "      <td>438</td>\n",
       "      <td>Human</td>\n",
       "      <td>2</td>\n",
       "      <td>accepted</td>\n",
       "      <td>not monitored</td>\n",
       "      <td>Eletrônicos e celulares</td>\n",
       "      <td>300</td>\n",
       "      <td>new_ads</td>\n",
       "      <td>2001</td>\n",
       "      <td>deleted</td>\n",
       "    </tr>\n",
       "    <tr>\n",
       "      <th>1</th>\n",
       "      <td>500000</td>\n",
       "      <td>8</td>\n",
       "      <td>Harmony</td>\n",
       "      <td>301</td>\n",
       "      <td>Harmony</td>\n",
       "      <td>1</td>\n",
       "      <td>accepted</td>\n",
       "      <td>not monitored</td>\n",
       "      <td>Eletrônicos e celulares</td>\n",
       "      <td>300</td>\n",
       "      <td>harmony_new_ads</td>\n",
       "      <td>2000</td>\n",
       "      <td>deleted</td>\n",
       "    </tr>\n",
       "    <tr>\n",
       "      <th>2</th>\n",
       "      <td>500002</td>\n",
       "      <td>10</td>\n",
       "      <td>Harmony</td>\n",
       "      <td>301</td>\n",
       "      <td>Harmony</td>\n",
       "      <td>1</td>\n",
       "      <td>accepted</td>\n",
       "      <td>not monitored</td>\n",
       "      <td>Eletrônicos e celulares</td>\n",
       "      <td>300</td>\n",
       "      <td>harmony_duplicate</td>\n",
       "      <td>2005</td>\n",
       "      <td>deleted</td>\n",
       "    </tr>\n",
       "    <tr>\n",
       "      <th>3</th>\n",
       "      <td>500003</td>\n",
       "      <td>10</td>\n",
       "      <td>Harmony</td>\n",
       "      <td>301</td>\n",
       "      <td>Harmony</td>\n",
       "      <td>1</td>\n",
       "      <td>accepted</td>\n",
       "      <td>not monitored</td>\n",
       "      <td>Para a sua casa</td>\n",
       "      <td>900</td>\n",
       "      <td>harmony_new_ads</td>\n",
       "      <td>2000</td>\n",
       "      <td>deleted</td>\n",
       "    </tr>\n",
       "    <tr>\n",
       "      <th>4</th>\n",
       "      <td>500004</td>\n",
       "      <td>8</td>\n",
       "      <td>Harmony</td>\n",
       "      <td>301</td>\n",
       "      <td>Harmony</td>\n",
       "      <td>1</td>\n",
       "      <td>accepted</td>\n",
       "      <td>not monitored</td>\n",
       "      <td>Empregos e negócios</td>\n",
       "      <td>400</td>\n",
       "      <td>harmony_new_ads</td>\n",
       "      <td>2000</td>\n",
       "      <td>deleted</td>\n",
       "    </tr>\n",
       "  </tbody>\n",
       "</table>\n",
       "</div>"
      ],
      "text/plain": [
       "    ad_id  reviewing_month     reviewer  reviewer_admin_id reviewer_type  \\\n",
       "0  500000               10  reviewer 25                438         Human   \n",
       "1  500000                8      Harmony                301       Harmony   \n",
       "2  500002               10      Harmony                301       Harmony   \n",
       "3  500003               10      Harmony                301       Harmony   \n",
       "4  500004                8      Harmony                301       Harmony   \n",
       "\n",
       "   reviewer_type_id     state        monitor            category_main  \\\n",
       "0                 2  accepted  not monitored  Eletrônicos e celulares   \n",
       "1                 1  accepted  not monitored  Eletrônicos e celulares   \n",
       "2                 1  accepted  not monitored  Eletrônicos e celulares   \n",
       "3                 1  accepted  not monitored          Para a sua casa   \n",
       "4                 1  accepted  not monitored      Empregos e negócios   \n",
       "\n",
       "   category_main_id              queue  queue_id post_reviewing  \n",
       "0               300            new_ads      2001        deleted  \n",
       "1               300    harmony_new_ads      2000        deleted  \n",
       "2               300  harmony_duplicate      2005        deleted  \n",
       "3               900    harmony_new_ads      2000        deleted  \n",
       "4               400    harmony_new_ads      2000        deleted  "
      ]
     },
     "execution_count": 4,
     "metadata": {},
     "output_type": "execute_result"
    }
   ],
   "source": [
    "df.head()"
   ]
  },
  {
   "cell_type": "code",
   "execution_count": 5,
   "metadata": {},
   "outputs": [
    {
     "data": {
      "text/plain": [
       "(227696, 13)"
      ]
     },
     "execution_count": 5,
     "metadata": {},
     "output_type": "execute_result"
    }
   ],
   "source": [
    "df.shape"
   ]
  },
  {
   "cell_type": "code",
   "execution_count": 6,
   "metadata": {},
   "outputs": [
    {
     "data": {
      "text/plain": [
       "array(['reviewer 25', 'Harmony', 'reviewer 23', 'reviewer 27',\n",
       "       'reviewer 22', 'reviewer 18', 'reviewer 21', 'reviewer 13',\n",
       "       'reviewer 17', 'reviewer 19', 'reviewer 29', 'reviewer 7',\n",
       "       'reviewer 14', 'reviewer 1', 'reviewer 3', 'reviewer 8',\n",
       "       'reviewer 15', 'reviewer 2', 'reviewer 24', 'reviewer 16',\n",
       "       'reviewer 6', 'reviewer 11', 'reviewer 10', 'reviewer 4',\n",
       "       'reviewer 12', 'reviewer 26', 'reviewer 5', 'reviewer 20',\n",
       "       'reviewer 9', 'reviewer 28', 'reviewer 30'], dtype=object)"
      ]
     },
     "execution_count": 6,
     "metadata": {},
     "output_type": "execute_result"
    }
   ],
   "source": [
    "df['reviewer'].unique()"
   ]
  },
  {
   "cell_type": "code",
   "execution_count": 7,
   "metadata": {},
   "outputs": [
    {
     "data": {
      "text/plain": [
       "array(['new_ads', 'harmony_new_ads', 'harmony_duplicate',\n",
       "       'prohibited_items', 'harmony_fraud', 'observation',\n",
       "       'suspected_fraud', 'suspected_duplicates', 'other_countries',\n",
       "       'harmony_edit', 'renew', 'specific_rules', 'edit'], dtype=object)"
      ]
     },
     "execution_count": 7,
     "metadata": {},
     "output_type": "execute_result"
    }
   ],
   "source": [
    "df['queue'].unique()"
   ]
  },
  {
   "cell_type": "code",
   "execution_count": 8,
   "metadata": {},
   "outputs": [
    {
     "data": {
      "text/plain": [
       "array(['not monitored', 'refused correctly', 'accepted correctly',\n",
       "       'accepted incorrectly', 'refused incorrectly'], dtype=object)"
      ]
     },
     "execution_count": 8,
     "metadata": {},
     "output_type": "execute_result"
    }
   ],
   "source": [
    "df['monitor'].unique()"
   ]
  },
  {
   "cell_type": "code",
   "execution_count": 9,
   "metadata": {
    "collapsed": true
   },
   "outputs": [],
   "source": [
    "reviewer = []\n",
    "for i in range(len(df)):\n",
    "    if df['reviewer'][i] != 'Harmony' and df['reviewer'][i] not in reviewer:\n",
    "        reviewer.append(df['reviewer'][i])"
   ]
  },
  {
   "cell_type": "code",
   "execution_count": 10,
   "metadata": {},
   "outputs": [
    {
     "data": {
      "text/plain": [
       "30"
      ]
     },
     "execution_count": 10,
     "metadata": {},
     "output_type": "execute_result"
    }
   ],
   "source": [
    "len(reviewer)"
   ]
  },
  {
   "cell_type": "code",
   "execution_count": 11,
   "metadata": {
    "collapsed": true
   },
   "outputs": [],
   "source": [
    "quality = []\n",
    "for i in range(len(reviewer)):\n",
    "    quality.append(df.query('(monitor == \"accepted correctly\" | monitor == \"refused correctly\") & reviewer == \"{}\" & (queue == \"prohibited_items\" | queue == \"suspected_duplicates\")'.format(reviewer[i]))['reviewer'].count())"
   ]
  },
  {
   "cell_type": "code",
   "execution_count": 12,
   "metadata": {},
   "outputs": [
    {
     "data": {
      "text/plain": [
       "30"
      ]
     },
     "execution_count": 12,
     "metadata": {},
     "output_type": "execute_result"
    }
   ],
   "source": [
    "len(quality)"
   ]
  },
  {
   "cell_type": "code",
   "execution_count": 13,
   "metadata": {
    "collapsed": true
   },
   "outputs": [],
   "source": [
    "dicionario = {'Name':reviewer,'Quality':quality}"
   ]
  },
  {
   "cell_type": "code",
   "execution_count": 14,
   "metadata": {
    "collapsed": true
   },
   "outputs": [],
   "source": [
    "data = pd.DataFrame(data=dicionario)"
   ]
  },
  {
   "cell_type": "code",
   "execution_count": 23,
   "metadata": {},
   "outputs": [
    {
     "data": {
      "text/html": [
       "<div>\n",
       "<style>\n",
       "    .dataframe thead tr:only-child th {\n",
       "        text-align: right;\n",
       "    }\n",
       "\n",
       "    .dataframe thead th {\n",
       "        text-align: left;\n",
       "    }\n",
       "\n",
       "    .dataframe tbody tr th {\n",
       "        vertical-align: top;\n",
       "    }\n",
       "</style>\n",
       "<table border=\"1\" class=\"dataframe\">\n",
       "  <thead>\n",
       "    <tr style=\"text-align: right;\">\n",
       "      <th></th>\n",
       "      <th>Name</th>\n",
       "      <th>Quality</th>\n",
       "    </tr>\n",
       "  </thead>\n",
       "  <tbody>\n",
       "    <tr>\n",
       "      <th>0</th>\n",
       "      <td>reviewer 25</td>\n",
       "      <td>145</td>\n",
       "    </tr>\n",
       "    <tr>\n",
       "      <th>1</th>\n",
       "      <td>reviewer 23</td>\n",
       "      <td>93</td>\n",
       "    </tr>\n",
       "    <tr>\n",
       "      <th>2</th>\n",
       "      <td>reviewer 27</td>\n",
       "      <td>116</td>\n",
       "    </tr>\n",
       "    <tr>\n",
       "      <th>3</th>\n",
       "      <td>reviewer 22</td>\n",
       "      <td>154</td>\n",
       "    </tr>\n",
       "    <tr>\n",
       "      <th>4</th>\n",
       "      <td>reviewer 18</td>\n",
       "      <td>293</td>\n",
       "    </tr>\n",
       "  </tbody>\n",
       "</table>\n",
       "</div>"
      ],
      "text/plain": [
       "          Name  Quality\n",
       "0  reviewer 25      145\n",
       "1  reviewer 23       93\n",
       "2  reviewer 27      116\n",
       "3  reviewer 22      154\n",
       "4  reviewer 18      293"
      ]
     },
     "execution_count": 23,
     "metadata": {},
     "output_type": "execute_result"
    }
   ],
   "source": [
    "data.head()"
   ]
  },
  {
   "cell_type": "code",
   "execution_count": 16,
   "metadata": {},
   "outputs": [
    {
     "data": {
      "image/png": "[encoded data removed]",
      "text/plain": [
       "<matplotlib.figure.Figure at 0xc62dabacc0>"
      ]
     },
     "metadata": {},
     "output_type": "display_data"
    }
   ],
   "source": [
    "sns.distplot(data['Quality'],bins=30,kde=False,color='red');"
   ]
  },
  {
   "cell_type": "code",
   "execution_count": 17,
   "metadata": {},
   "outputs": [
    {
     "data": {
      "image/png": "[encoded data removed]",
      "text/plain": [
       "<matplotlib.figure.Figure at 0xc637e39eb8>"
      ]
     },
     "metadata": {},
     "output_type": "display_data"
    }
   ],
   "source": [
    "sns.factorplot(x='Quality',y='Name',data=data,kind='bar',size=8);"
   ]
  },
  {
   "cell_type": "code",
   "execution_count": 18,
   "metadata": {},
   "outputs": [
    {
     "data": {
      "image/png": "[encoded data removed]",
      "text/plain": [
       "<matplotlib.figure.Figure at 0xc632996c18>"
      ]
     },
     "metadata": {},
     "output_type": "display_data"
    }
   ],
   "source": [
    "sns.factorplot(x='Quality',y='Name',data=data,size=8);"
   ]
  },
  {
   "cell_type": "code",
   "execution_count": 19,
   "metadata": {},
   "outputs": [
    {
     "data": {
      "text/html": [
       "<div>\n",
       "<style>\n",
       "    .dataframe thead tr:only-child th {\n",
       "        text-align: right;\n",
       "    }\n",
       "\n",
       "    .dataframe thead th {\n",
       "        text-align: left;\n",
       "    }\n",
       "\n",
       "    .dataframe tbody tr th {\n",
       "        vertical-align: top;\n",
       "    }\n",
       "</style>\n",
       "<table border=\"1\" class=\"dataframe\">\n",
       "  <thead>\n",
       "    <tr style=\"text-align: right;\">\n",
       "      <th></th>\n",
       "      <th>Quality</th>\n",
       "    </tr>\n",
       "  </thead>\n",
       "  <tbody>\n",
       "    <tr>\n",
       "      <th>count</th>\n",
       "      <td>30.000000</td>\n",
       "    </tr>\n",
       "    <tr>\n",
       "      <th>mean</th>\n",
       "      <td>140.600000</td>\n",
       "    </tr>\n",
       "    <tr>\n",
       "      <th>std</th>\n",
       "      <td>53.928177</td>\n",
       "    </tr>\n",
       "    <tr>\n",
       "      <th>min</th>\n",
       "      <td>93.000000</td>\n",
       "    </tr>\n",
       "    <tr>\n",
       "      <th>25%</th>\n",
       "      <td>104.250000</td>\n",
       "    </tr>\n",
       "    <tr>\n",
       "      <th>50%</th>\n",
       "      <td>126.000000</td>\n",
       "    </tr>\n",
       "    <tr>\n",
       "      <th>75%</th>\n",
       "      <td>151.750000</td>\n",
       "    </tr>\n",
       "    <tr>\n",
       "      <th>max</th>\n",
       "      <td>293.000000</td>\n",
       "    </tr>\n",
       "  </tbody>\n",
       "</table>\n",
       "</div>"
      ],
      "text/plain": [
       "          Quality\n",
       "count   30.000000\n",
       "mean   140.600000\n",
       "std     53.928177\n",
       "min     93.000000\n",
       "25%    104.250000\n",
       "50%    126.000000\n",
       "75%    151.750000\n",
       "max    293.000000"
      ]
     },
     "execution_count": 19,
     "metadata": {},
     "output_type": "execute_result"
    }
   ],
   "source": [
    "data.describe()"
   ]
  },
  {
   "cell_type": "code",
   "execution_count": 20,
   "metadata": {
    "collapsed": true
   },
   "outputs": [],
   "source": [
    "metric = data.describe()['Quality'][6]"
   ]
  },
  {
   "cell_type": "code",
   "execution_count": 24,
   "metadata": {},
   "outputs": [
    {
     "data": {
      "text/html": [
       "<div>\n",
       "<style>\n",
       "    .dataframe thead tr:only-child th {\n",
       "        text-align: right;\n",
       "    }\n",
       "\n",
       "    .dataframe thead th {\n",
       "        text-align: left;\n",
       "    }\n",
       "\n",
       "    .dataframe tbody tr th {\n",
       "        vertical-align: top;\n",
       "    }\n",
       "</style>\n",
       "<table border=\"1\" class=\"dataframe\">\n",
       "  <thead>\n",
       "    <tr style=\"text-align: right;\">\n",
       "      <th></th>\n",
       "      <th>Name</th>\n",
       "      <th>Quality</th>\n",
       "    </tr>\n",
       "  </thead>\n",
       "  <tbody>\n",
       "    <tr>\n",
       "      <th>3</th>\n",
       "      <td>reviewer 22</td>\n",
       "      <td>154</td>\n",
       "    </tr>\n",
       "    <tr>\n",
       "      <th>4</th>\n",
       "      <td>reviewer 18</td>\n",
       "      <td>293</td>\n",
       "    </tr>\n",
       "    <tr>\n",
       "      <th>6</th>\n",
       "      <td>reviewer 13</td>\n",
       "      <td>284</td>\n",
       "    </tr>\n",
       "    <tr>\n",
       "      <th>7</th>\n",
       "      <td>reviewer 17</td>\n",
       "      <td>232</td>\n",
       "    </tr>\n",
       "    <tr>\n",
       "      <th>11</th>\n",
       "      <td>reviewer 14</td>\n",
       "      <td>165</td>\n",
       "    </tr>\n",
       "    <tr>\n",
       "      <th>15</th>\n",
       "      <td>reviewer 15</td>\n",
       "      <td>157</td>\n",
       "    </tr>\n",
       "    <tr>\n",
       "      <th>23</th>\n",
       "      <td>reviewer 12</td>\n",
       "      <td>155</td>\n",
       "    </tr>\n",
       "    <tr>\n",
       "      <th>24</th>\n",
       "      <td>reviewer 26</td>\n",
       "      <td>246</td>\n",
       "    </tr>\n",
       "  </tbody>\n",
       "</table>\n",
       "</div>"
      ],
      "text/plain": [
       "           Name  Quality\n",
       "3   reviewer 22      154\n",
       "4   reviewer 18      293\n",
       "6   reviewer 13      284\n",
       "7   reviewer 17      232\n",
       "11  reviewer 14      165\n",
       "15  reviewer 15      157\n",
       "23  reviewer 12      155\n",
       "24  reviewer 26      246"
      ]
     },
     "execution_count": 24,
     "metadata": {},
     "output_type": "execute_result"
    }
   ],
   "source": [
    "data.query('Quality > {}'.format(metric))"
   ]
  },
  {
   "cell_type": "code",
   "execution_count": 30,
   "metadata": {},
   "outputs": [
    {
     "data": {
      "text/plain": [
       "not monitored           191483\n",
       "accepted correctly       18635\n",
       "refused correctly        10445\n",
       "refused incorrectly       4299\n",
       "accepted incorrectly      2834\n",
       "Name: monitor, dtype: int64"
      ]
     },
     "execution_count": 30,
     "metadata": {},
     "output_type": "execute_result"
    }
   ],
   "source": [
    "df['monitor'].value_counts()"
   ]
  },
  {
   "cell_type": "code",
   "execution_count": null,
   "metadata": {
    "collapsed": true
   },
   "outputs": [],
   "source": []
  }
 ],
 "metadata": {
  "kernelspec": {
   "display_name": "Python 3",
   "language": "python",
   "name": "python3"
  },
  "language_info": {
   "codemirror_mode": {
    "name": "ipython",
    "version": 3
   },
   "file_extension": ".py",
   "mimetype": "text/x-python",
   "name": "python",
   "nbconvert_exporter": "python",
   "pygments_lexer": "ipython3",
   "version": "3.6.3"
  }
 },
 "nbformat": 4,
 "nbformat_minor": 2
}
